{
 "cells": [
  {
   "cell_type": "code",
   "execution_count": 2,
   "metadata": {},
   "outputs": [],
   "source": [
    "import PyPDF2\n",
    "import pandas as pd\n",
    "import tabula\n"
   ]
  },
  {
   "cell_type": "code",
   "execution_count": 7,
   "metadata": {},
   "outputs": [
    {
     "name": "stdout",
     "output_type": "stream",
     "text": [
      "Help on package tabula:\n",
      "\n",
      "NAME\n",
      "    tabula\n",
      "\n",
      "PACKAGE CONTENTS\n",
      "    painter\n",
      "    section\n",
      "    table\n",
      "\n",
      "FILE\n",
      "    c:\\users\\dharm\\anaconda3\\lib\\site-packages\\tabula\\__init__.py\n",
      "\n",
      "\n"
     ]
    }
   ],
   "source": [
    "help(tabula)"
   ]
  },
  {
   "cell_type": "code",
   "execution_count": 9,
   "metadata": {},
   "outputs": [
    {
     "name": "stdout",
     "output_type": "stream",
     "text": [
      "Collecting camelot-py[cv]\n",
      "  Obtaining dependency information for camelot-py[cv] from https://files.pythonhosted.org/packages/8c/6b/054432c9d7f9ebd6748873efda7fbb19580da7bc4d16505f6bfd848c8d90/camelot_py-0.11.0-py3-none-any.whl.metadata\n",
      "  Downloading camelot_py-0.11.0-py3-none-any.whl.metadata (8.3 kB)\n",
      "Collecting tabula-py\n",
      "  Obtaining dependency information for tabula-py from https://files.pythonhosted.org/packages/d5/77/b34088cbb55ba59e1cc6512ab2ff3b7679102b7f7577982a96cbdcddb90c/tabula_py-2.9.0-py3-none-any.whl.metadata\n",
      "  Downloading tabula_py-2.9.0-py3-none-any.whl.metadata (7.5 kB)\n",
      "Requirement already satisfied: chardet>=3.0.4 in c:\\users\\dharm\\anaconda3\\lib\\site-packages (from camelot-py[cv]) (4.0.0)\n",
      "Requirement already satisfied: click>=6.7 in c:\\users\\dharm\\anaconda3\\lib\\site-packages (from camelot-py[cv]) (8.0.4)\n",
      "Requirement already satisfied: numpy>=1.13.3 in c:\\users\\dharm\\anaconda3\\lib\\site-packages (from camelot-py[cv]) (1.24.3)\n",
      "Requirement already satisfied: openpyxl>=2.5.8 in c:\\users\\dharm\\anaconda3\\lib\\site-packages (from camelot-py[cv]) (3.0.10)\n",
      "Requirement already satisfied: pandas>=0.23.4 in c:\\users\\dharm\\anaconda3\\lib\\site-packages (from camelot-py[cv]) (2.0.3)\n",
      "Collecting pdfminer.six>=20200726 (from camelot-py[cv])\n",
      "  Obtaining dependency information for pdfminer.six>=20200726 from https://files.pythonhosted.org/packages/eb/9c/e46fe7502b32d7db6af6e36a9105abb93301fa1ec475b5ddcba8b35ae23a/pdfminer.six-20231228-py3-none-any.whl.metadata\n",
      "  Downloading pdfminer.six-20231228-py3-none-any.whl.metadata (4.2 kB)\n",
      "Collecting pypdf>=3.0.0 (from camelot-py[cv])\n",
      "  Obtaining dependency information for pypdf>=3.0.0 from https://files.pythonhosted.org/packages/b8/1e/071b6684ee2b299a74a0bcdbf9a5441a1002920c72b6990b445d45c2b956/pypdf-4.1.0-py3-none-any.whl.metadata\n",
      "  Downloading pypdf-4.1.0-py3-none-any.whl.metadata (7.4 kB)\n",
      "Requirement already satisfied: tabulate>=0.8.9 in c:\\users\\dharm\\anaconda3\\lib\\site-packages (from camelot-py[cv]) (0.8.10)\n",
      "Collecting ghostscript>=0.7 (from camelot-py[cv])\n",
      "  Obtaining dependency information for ghostscript>=0.7 from https://files.pythonhosted.org/packages/89/5b/fa8ac3997ae33d631179ea2e972a5db358d5418b8cccbecfa4dc4c1f3b77/ghostscript-0.7-py2.py3-none-any.whl.metadata\n",
      "  Downloading ghostscript-0.7-py2.py3-none-any.whl.metadata (4.4 kB)\n",
      "Collecting opencv-python>=3.4.2.17 (from camelot-py[cv])\n",
      "  Obtaining dependency information for opencv-python>=3.4.2.17 from https://files.pythonhosted.org/packages/c7/ec/9dabb6a9abfdebb3c45b0cc52dec901caafef2b2c7e7d6a839ed86d81e91/opencv_python-4.9.0.80-cp37-abi3-win_amd64.whl.metadata\n",
      "  Using cached opencv_python-4.9.0.80-cp37-abi3-win_amd64.whl.metadata (20 kB)\n",
      "INFO: pip is looking at multiple versions of camelot-py[cv] to determine which version is compatible with other requirements. This could take a while.\n",
      "Collecting camelot-py[cv]\n",
      "  Obtaining dependency information for camelot-py[cv] from https://files.pythonhosted.org/packages/3a/d3/08ae34725925bdaf85be36be7a230ba3ed7d6ae8e49a2276f1753620f347/camelot_py-0.10.1-py3-none-any.whl.metadata\n",
      "  Downloading camelot_py-0.10.1-py3-none-any.whl.metadata (8.3 kB)\n",
      "Requirement already satisfied: PyPDF2>=1.26.0 in c:\\users\\dharm\\anaconda3\\lib\\site-packages (from camelot-py[cv]) (3.0.1)\n",
      "  Obtaining dependency information for camelot-py[cv] from https://files.pythonhosted.org/packages/00/19/1574b26ed2c76834f6e3ea716b56a48ca41acca3651da84d11cc2e74384e/camelot_py-0.10.0-py3-none-any.whl.metadata\n",
      "  Downloading camelot_py-0.10.0-py3-none-any.whl.metadata (8.3 kB)\n",
      "  Obtaining dependency information for camelot-py[cv] from https://files.pythonhosted.org/packages/f5/0f/6e0425aa3aa0411b6e384ec4f92b729880d9a4832497aa0f309b37318d11/camelot_py-0.9.0-py3-none-any.whl.metadata\n",
      "  Downloading camelot_py-0.9.0-py3-none-any.whl.metadata (7.5 kB)\n",
      "Collecting distro (from tabula-py)\n",
      "  Obtaining dependency information for distro from https://files.pythonhosted.org/packages/12/b3/231ffd4ab1fc9d679809f356cebee130ac7daa00d6d6f3206dd4fd137e9e/distro-1.9.0-py3-none-any.whl.metadata\n",
      "  Downloading distro-1.9.0-py3-none-any.whl.metadata (6.8 kB)\n",
      "Requirement already satisfied: colorama in c:\\users\\dharm\\anaconda3\\lib\\site-packages (from click>=6.7->camelot-py[cv]) (0.4.6)\n",
      "Requirement already satisfied: et_xmlfile in c:\\users\\dharm\\anaconda3\\lib\\site-packages (from openpyxl>=2.5.8->camelot-py[cv]) (1.1.0)\n",
      "Requirement already satisfied: python-dateutil>=2.8.2 in c:\\users\\dharm\\anaconda3\\lib\\site-packages (from pandas>=0.23.4->camelot-py[cv]) (2.8.2)\n",
      "Requirement already satisfied: pytz>=2020.1 in c:\\users\\dharm\\anaconda3\\lib\\site-packages (from pandas>=0.23.4->camelot-py[cv]) (2023.3.post1)\n",
      "Requirement already satisfied: tzdata>=2022.1 in c:\\users\\dharm\\anaconda3\\lib\\site-packages (from pandas>=0.23.4->camelot-py[cv]) (2023.3)\n",
      "Requirement already satisfied: charset-normalizer>=2.0.0 in c:\\users\\dharm\\anaconda3\\lib\\site-packages (from pdfminer.six>=20200726->camelot-py[cv]) (2.0.4)\n",
      "Requirement already satisfied: cryptography>=36.0.0 in c:\\users\\dharm\\anaconda3\\lib\\site-packages (from pdfminer.six>=20200726->camelot-py[cv]) (41.0.3)\n",
      "Requirement already satisfied: cffi>=1.12 in c:\\users\\dharm\\anaconda3\\lib\\site-packages (from cryptography>=36.0.0->pdfminer.six>=20200726->camelot-py[cv]) (1.15.1)\n",
      "Requirement already satisfied: six>=1.5 in c:\\users\\dharm\\anaconda3\\lib\\site-packages (from python-dateutil>=2.8.2->pandas>=0.23.4->camelot-py[cv]) (1.16.0)\n",
      "Requirement already satisfied: pycparser in c:\\users\\dharm\\anaconda3\\lib\\site-packages (from cffi>=1.12->cryptography>=36.0.0->pdfminer.six>=20200726->camelot-py[cv]) (2.21)\n",
      "Downloading tabula_py-2.9.0-py3-none-any.whl (12.0 MB)\n",
      "   ---------------------------------------- 0.0/12.0 MB ? eta -:--:--\n",
      "   ---------------------------------------- 0.1/12.0 MB 2.4 MB/s eta 0:00:05\n",
      "    --------------------------------------- 0.2/12.0 MB 2.1 MB/s eta 0:00:06\n",
      "   - -------------------------------------- 0.5/12.0 MB 3.1 MB/s eta 0:00:04\n",
      "   -- ------------------------------------- 0.7/12.0 MB 3.5 MB/s eta 0:00:04\n",
      "   -- ------------------------------------- 0.9/12.0 MB 3.6 MB/s eta 0:00:04\n",
      "   --- ------------------------------------ 1.0/12.0 MB 3.8 MB/s eta 0:00:03\n",
      "   ---- ----------------------------------- 1.2/12.0 MB 3.7 MB/s eta 0:00:03\n",
      "   ----- ---------------------------------- 1.7/12.0 MB 4.6 MB/s eta 0:00:03\n",
      "   ------- -------------------------------- 2.1/12.0 MB 5.0 MB/s eta 0:00:02\n",
      "   --------- ------------------------------ 2.8/12.0 MB 5.9 MB/s eta 0:00:02\n",
      "   ----------- ---------------------------- 3.3/12.0 MB 6.5 MB/s eta 0:00:02\n",
      "   ------------ --------------------------- 3.9/12.0 MB 6.9 MB/s eta 0:00:02\n",
      "   -------------- ------------------------- 4.4/12.0 MB 7.3 MB/s eta 0:00:02\n",
      "   --------------- ------------------------ 4.7/12.0 MB 7.3 MB/s eta 0:00:02\n",
      "   ---------------- ----------------------- 5.1/12.0 MB 7.4 MB/s eta 0:00:01\n",
      "   ------------------ --------------------- 5.5/12.0 MB 7.5 MB/s eta 0:00:01\n",
      "   -------------------- ------------------- 6.1/12.0 MB 7.8 MB/s eta 0:00:01\n",
      "   ---------------------- ----------------- 6.6/12.0 MB 8.0 MB/s eta 0:00:01\n",
      "   ------------------------ --------------- 7.3/12.0 MB 8.4 MB/s eta 0:00:01\n",
      "   -------------------------- ------------- 8.1/12.0 MB 8.7 MB/s eta 0:00:01\n",
      "   ---------------------------- ----------- 8.6/12.0 MB 8.8 MB/s eta 0:00:01\n",
      "   ----------------------------- ---------- 8.9/12.0 MB 8.8 MB/s eta 0:00:01\n",
      "   ------------------------------- -------- 9.4/12.0 MB 8.8 MB/s eta 0:00:01\n",
      "   -------------------------------- ------- 9.8/12.0 MB 9.0 MB/s eta 0:00:01\n",
      "   ---------------------------------- ----- 10.2/12.0 MB 8.8 MB/s eta 0:00:01\n",
      "   ----------------------------------- ---- 10.6/12.0 MB 9.5 MB/s eta 0:00:01\n",
      "   ------------------------------------ --- 10.9/12.0 MB 9.8 MB/s eta 0:00:01\n",
      "   ------------------------------------- -- 11.2/12.0 MB 9.8 MB/s eta 0:00:01\n",
      "   -------------------------------------- - 11.5/12.0 MB 10.1 MB/s eta 0:00:01\n",
      "   ---------------------------------------  12.0/12.0 MB 10.4 MB/s eta 0:00:01\n",
      "   ---------------------------------------- 12.0/12.0 MB 9.9 MB/s eta 0:00:00\n",
      "Downloading opencv_python-4.9.0.80-cp37-abi3-win_amd64.whl (38.6 MB)\n",
      "   ---------------------------------------- 0.0/38.6 MB ? eta -:--:--\n",
      "   ---------------------------------------- 0.3/38.6 MB 9.2 MB/s eta 0:00:05\n",
      "    --------------------------------------- 0.7/38.6 MB 8.3 MB/s eta 0:00:05\n",
      "    --------------------------------------- 0.9/38.6 MB 7.1 MB/s eta 0:00:06\n",
      "   - -------------------------------------- 1.2/38.6 MB 7.0 MB/s eta 0:00:06\n",
      "   - -------------------------------------- 1.6/38.6 MB 7.4 MB/s eta 0:00:06\n",
      "   - -------------------------------------- 1.9/38.6 MB 7.1 MB/s eta 0:00:06\n",
      "   -- ------------------------------------- 2.3/38.6 MB 7.3 MB/s eta 0:00:06\n",
      "   -- ------------------------------------- 2.6/38.6 MB 7.2 MB/s eta 0:00:05\n",
      "   -- ------------------------------------- 2.9/38.6 MB 7.0 MB/s eta 0:00:06\n",
      "   --- ------------------------------------ 3.4/38.6 MB 7.4 MB/s eta 0:00:05\n",
      "   --- ------------------------------------ 3.7/38.6 MB 7.7 MB/s eta 0:00:05\n",
      "   --- ------------------------------------ 3.8/38.6 MB 7.1 MB/s eta 0:00:05\n",
      "   ---- ----------------------------------- 4.2/38.6 MB 7.0 MB/s eta 0:00:05\n",
      "   ---- ----------------------------------- 4.6/38.6 MB 7.1 MB/s eta 0:00:05\n",
      "   ----- ---------------------------------- 4.9/38.6 MB 7.2 MB/s eta 0:00:05\n",
      "   ----- ---------------------------------- 5.3/38.6 MB 7.2 MB/s eta 0:00:05\n",
      "   ----- ---------------------------------- 5.6/38.6 MB 7.3 MB/s eta 0:00:05\n",
      "   ------ --------------------------------- 5.9/38.6 MB 7.2 MB/s eta 0:00:05\n",
      "   ------ --------------------------------- 6.3/38.6 MB 7.2 MB/s eta 0:00:05\n",
      "   ------ --------------------------------- 6.5/38.6 MB 7.1 MB/s eta 0:00:05\n",
      "   ------- -------------------------------- 7.0/38.6 MB 7.2 MB/s eta 0:00:05\n",
      "   ------- -------------------------------- 7.4/38.6 MB 7.3 MB/s eta 0:00:05\n",
      "   -------- ------------------------------- 7.9/38.6 MB 7.5 MB/s eta 0:00:05\n",
      "   -------- ------------------------------- 8.5/38.6 MB 7.7 MB/s eta 0:00:04\n",
      "   --------- ------------------------------ 9.0/38.6 MB 7.8 MB/s eta 0:00:04\n",
      "   ---------- ----------------------------- 9.7/38.6 MB 8.2 MB/s eta 0:00:04\n",
      "   ---------- ----------------------------- 10.4/38.6 MB 8.4 MB/s eta 0:00:04\n",
      "   ----------- ---------------------------- 10.9/38.6 MB 8.5 MB/s eta 0:00:04\n",
      "   ----------- ---------------------------- 11.5/38.6 MB 9.0 MB/s eta 0:00:04\n",
      "   ------------ --------------------------- 12.3/38.6 MB 9.4 MB/s eta 0:00:03\n",
      "   ------------ --------------------------- 12.5/38.6 MB 9.2 MB/s eta 0:00:03\n",
      "   ------------- -------------------------- 12.8/38.6 MB 9.2 MB/s eta 0:00:03\n",
      "   ------------- -------------------------- 13.2/38.6 MB 9.2 MB/s eta 0:00:03\n",
      "   -------------- ------------------------- 13.8/38.6 MB 9.4 MB/s eta 0:00:03\n",
      "   -------------- ------------------------- 14.3/38.6 MB 9.9 MB/s eta 0:00:03\n",
      "   --------------- ------------------------ 14.9/38.6 MB 10.2 MB/s eta 0:00:03\n",
      "   --------------- ------------------------ 15.4/38.6 MB 10.4 MB/s eta 0:00:03\n",
      "   ---------------- ----------------------- 16.0/38.6 MB 10.7 MB/s eta 0:00:03\n",
      "   ----------------- ---------------------- 16.6/38.6 MB 11.1 MB/s eta 0:00:02\n",
      "   ----------------- ---------------------- 17.1/38.6 MB 11.5 MB/s eta 0:00:02\n",
      "   ------------------ --------------------- 17.7/38.6 MB 11.7 MB/s eta 0:00:02\n",
      "   ------------------ --------------------- 18.3/38.6 MB 11.7 MB/s eta 0:00:02\n",
      "   ------------------- -------------------- 18.8/38.6 MB 11.9 MB/s eta 0:00:02\n",
      "   -------------------- ------------------- 19.6/38.6 MB 11.9 MB/s eta 0:00:02\n",
      "   -------------------- ------------------- 20.0/38.6 MB 11.9 MB/s eta 0:00:02\n",
      "   --------------------- ------------------ 20.8/38.6 MB 11.9 MB/s eta 0:00:02\n",
      "   ---------------------- ----------------- 21.6/38.6 MB 12.1 MB/s eta 0:00:02\n",
      "   ----------------------- ---------------- 22.3/38.6 MB 12.1 MB/s eta 0:00:02\n",
      "   ----------------------- ---------------- 22.9/38.6 MB 12.6 MB/s eta 0:00:02\n",
      "   ------------------------ --------------- 23.5/38.6 MB 13.1 MB/s eta 0:00:02\n",
      "   ------------------------- -------------- 24.3/38.6 MB 13.4 MB/s eta 0:00:02\n",
      "   ------------------------- -------------- 24.9/38.6 MB 13.6 MB/s eta 0:00:02\n",
      "   -------------------------- ------------- 25.5/38.6 MB 13.4 MB/s eta 0:00:01\n",
      "   --------------------------- ------------ 26.1/38.6 MB 13.6 MB/s eta 0:00:01\n",
      "   --------------------------- ------------ 26.7/38.6 MB 13.4 MB/s eta 0:00:01\n",
      "   ---------------------------- ----------- 27.3/38.6 MB 13.6 MB/s eta 0:00:01\n",
      "   ---------------------------- ----------- 27.8/38.6 MB 13.6 MB/s eta 0:00:01\n",
      "   ----------------------------- ---------- 28.4/38.6 MB 13.6 MB/s eta 0:00:01\n",
      "   ------------------------------ --------- 29.0/38.6 MB 13.6 MB/s eta 0:00:01\n",
      "   ------------------------------ --------- 29.2/38.6 MB 13.4 MB/s eta 0:00:01\n",
      "   ------------------------------ --------- 29.6/38.6 MB 12.9 MB/s eta 0:00:01\n",
      "   ------------------------------- -------- 30.0/38.6 MB 12.6 MB/s eta 0:00:01\n",
      "   ------------------------------- -------- 30.4/38.6 MB 12.4 MB/s eta 0:00:01\n",
      "   -------------------------------- ------- 30.9/38.6 MB 12.1 MB/s eta 0:00:01\n",
      "   -------------------------------- ------- 31.5/38.6 MB 11.9 MB/s eta 0:00:01\n",
      "   --------------------------------- ------ 32.0/38.6 MB 11.7 MB/s eta 0:00:01\n",
      "   --------------------------------- ------ 32.5/38.6 MB 11.7 MB/s eta 0:00:01\n",
      "   ---------------------------------- ----- 32.9/38.6 MB 11.5 MB/s eta 0:00:01\n",
      "   ---------------------------------- ----- 33.5/38.6 MB 11.3 MB/s eta 0:00:01\n",
      "   ----------------------------------- ---- 34.0/38.6 MB 11.3 MB/s eta 0:00:01\n",
      "   ----------------------------------- ---- 34.4/38.6 MB 10.9 MB/s eta 0:00:01\n",
      "   ------------------------------------ --- 35.0/38.6 MB 10.9 MB/s eta 0:00:01\n",
      "   ------------------------------------ --- 35.5/38.6 MB 10.9 MB/s eta 0:00:01\n",
      "   ------------------------------------- -- 36.0/38.6 MB 10.7 MB/s eta 0:00:01\n",
      "   ------------------------------------- -- 36.5/38.6 MB 10.7 MB/s eta 0:00:01\n",
      "   -------------------------------------- - 37.0/38.6 MB 10.7 MB/s eta 0:00:01\n",
      "   -------------------------------------- - 37.5/38.6 MB 10.7 MB/s eta 0:00:01\n",
      "   ---------------------------------------  38.0/38.6 MB 10.6 MB/s eta 0:00:01\n",
      "   ---------------------------------------  38.6/38.6 MB 10.6 MB/s eta 0:00:01\n",
      "   ---------------------------------------  38.6/38.6 MB 10.6 MB/s eta 0:00:01\n",
      "   ---------------------------------------  38.6/38.6 MB 10.6 MB/s eta 0:00:01\n",
      "   ---------------------------------------- 38.6/38.6 MB 9.2 MB/s eta 0:00:00\n",
      "Downloading pdfminer.six-20231228-py3-none-any.whl (5.6 MB)\n",
      "   ---------------------------------------- 0.0/5.6 MB ? eta -:--:--\n",
      "   --- ------------------------------------ 0.5/5.6 MB 27.5 MB/s eta 0:00:01\n",
      "   ------- -------------------------------- 1.0/5.6 MB 12.7 MB/s eta 0:00:01\n",
      "   ---------- ----------------------------- 1.4/5.6 MB 11.2 MB/s eta 0:00:01\n",
      "   -------------- ------------------------- 2.0/5.6 MB 11.5 MB/s eta 0:00:01\n",
      "   ----------------- ---------------------- 2.5/5.6 MB 11.2 MB/s eta 0:00:01\n",
      "   -------------------- ------------------- 2.9/5.6 MB 11.0 MB/s eta 0:00:01\n",
      "   ----------------------- ---------------- 3.3/5.6 MB 10.4 MB/s eta 0:00:01\n",
      "   ------------------------- -------------- 3.6/5.6 MB 10.4 MB/s eta 0:00:01\n",
      "   --------------------------- ------------ 3.9/5.6 MB 10.4 MB/s eta 0:00:01\n",
      "   ----------------------------- ---------- 4.1/5.6 MB 9.1 MB/s eta 0:00:01\n",
      "   -------------------------------- ------- 4.6/5.6 MB 9.1 MB/s eta 0:00:01\n",
      "   ------------------------------------ --- 5.1/5.6 MB 9.3 MB/s eta 0:00:01\n",
      "   ---------------------------------------  5.5/5.6 MB 9.2 MB/s eta 0:00:01\n",
      "   ---------------------------------------  5.6/5.6 MB 9.2 MB/s eta 0:00:01\n",
      "   ---------------------------------------- 5.6/5.6 MB 8.7 MB/s eta 0:00:00\n",
      "Downloading camelot_py-0.9.0-py3-none-any.whl (43 kB)\n",
      "   ---------------------------------------- 0.0/43.2 kB ? eta -:--:--\n",
      "   ---------------------------------------- 43.2/43.2 kB 2.1 MB/s eta 0:00:00\n",
      "Downloading distro-1.9.0-py3-none-any.whl (20 kB)\n",
      "Installing collected packages: opencv-python, distro, tabula-py, pdfminer.six, camelot-py\n",
      "Successfully installed camelot-py-0.9.0 distro-1.9.0 opencv-python-4.9.0.80 pdfminer.six-20231228 tabula-py-2.9.0\n",
      "Note: you may need to restart the kernel to use updated packages.\n"
     ]
    }
   ],
   "source": [
    "# %pip install PyPDF2\n",
    "# %pip install tabula\n",
    "#%pip install tabulate\n",
    "%pip install camelot-py[cv] tabula-py"
   ]
  },
  {
   "cell_type": "code",
   "execution_count": 19,
   "metadata": {},
   "outputs": [
    {
     "ename": "ImportError",
     "evalue": "cannot import name 'read_pdf' from 'tabula' (C:\\Users\\dharm\\anaconda3\\Lib\\site-packages\\tabula\\__init__.py)",
     "output_type": "error",
     "traceback": [
      "\u001b[1;31m---------------------------------------------------------------------------\u001b[0m",
      "\u001b[1;31mImportError\u001b[0m                               Traceback (most recent call last)",
      "Cell \u001b[1;32mIn[19], line 1\u001b[0m\n\u001b[1;32m----> 1\u001b[0m \u001b[38;5;28;01mfrom\u001b[39;00m \u001b[38;5;21;01mtabula\u001b[39;00m \u001b[38;5;28;01mimport\u001b[39;00m read_pdf\n\u001b[0;32m      2\u001b[0m \u001b[38;5;28;01mfrom\u001b[39;00m \u001b[38;5;21;01mtabulate\u001b[39;00m \u001b[38;5;28;01mimport\u001b[39;00m tabulate\n\u001b[0;32m      4\u001b[0m \u001b[38;5;66;03m#reads table from pdf file\u001b[39;00m\n",
      "\u001b[1;31mImportError\u001b[0m: cannot import name 'read_pdf' from 'tabula' (C:\\Users\\dharm\\anaconda3\\Lib\\site-packages\\tabula\\__init__.py)"
     ]
    }
   ],
   "source": [
    "from tabula import read_pdf\n",
    "from tabulate import tabulate\n",
    " \n",
    "#reads table from pdf file\n",
    "df = read_pdf(\"'./Purchages bonds.pdf'\",pages=\"all\") #address of pdf file\n",
    "print(tabulate(df))"
   ]
  },
  {
   "cell_type": "code",
   "execution_count": 3,
   "metadata": {},
   "outputs": [
    {
     "ename": "TypeError",
     "evalue": "'_VirtualList' object is not callable",
     "output_type": "error",
     "traceback": [
      "\u001b[1;31m---------------------------------------------------------------------------\u001b[0m",
      "\u001b[1;31mTypeError\u001b[0m                                 Traceback (most recent call last)",
      "Cell \u001b[1;32mIn[3], line 25\u001b[0m\n\u001b[0;32m     22\u001b[0m page_number \u001b[38;5;241m=\u001b[39m \u001b[38;5;241m0\u001b[39m\n\u001b[0;32m     24\u001b[0m \u001b[38;5;66;03m# Extract tables from the PDF\u001b[39;00m\n\u001b[1;32m---> 25\u001b[0m tables \u001b[38;5;241m=\u001b[39m extract_table_from_pdf(pdf_path, page_number)\n\u001b[0;32m     27\u001b[0m \u001b[38;5;66;03m# Print the extracted tables\u001b[39;00m\n\u001b[0;32m     28\u001b[0m \u001b[38;5;28;01mfor\u001b[39;00m i, table \u001b[38;5;129;01min\u001b[39;00m \u001b[38;5;28menumerate\u001b[39m(tables, start\u001b[38;5;241m=\u001b[39m\u001b[38;5;241m1\u001b[39m):\n",
      "Cell \u001b[1;32mIn[3], line 8\u001b[0m, in \u001b[0;36mextract_table_from_pdf\u001b[1;34m(pdf_path, page_number)\u001b[0m\n\u001b[0;32m      5\u001b[0m pdf_reader \u001b[38;5;241m=\u001b[39m PyPDF2\u001b[38;5;241m.\u001b[39mPdfReader(file)\n\u001b[0;32m      7\u001b[0m \u001b[38;5;66;03m# Read the specified page\u001b[39;00m\n\u001b[1;32m----> 8\u001b[0m page \u001b[38;5;241m=\u001b[39m pdf_reader\u001b[38;5;241m.\u001b[39mpages(page_number)\n\u001b[0;32m     10\u001b[0m \u001b[38;5;66;03m# Extract text from the page\u001b[39;00m\n\u001b[0;32m     11\u001b[0m text \u001b[38;5;241m=\u001b[39m page\u001b[38;5;241m.\u001b[39mextract_text()\n",
      "\u001b[1;31mTypeError\u001b[0m: '_VirtualList' object is not callable"
     ]
    }
   ],
   "source": [
    "\n",
    "def extract_table_from_pdf(pdf_path, page_number):\n",
    "    # Open the PDF file in read-binary mode\n",
    "    with open(pdf_path, 'rb') as file:\n",
    "        # Create a PDF reader object\n",
    "        pdf_reader = PyPDF2.PdfReader(file)\n",
    "        \n",
    "        # Read the specified page\n",
    "        page = pdf_reader.pages(page_number)\n",
    "        \n",
    "        # Extract text from the page\n",
    "        text = page.extract_text()\n",
    "        \n",
    "        # Use tabula to extract tables from the page\n",
    "        tables = tabula.read_pdf(pdf_path, pages=page_number, multiple_tables=True)\n",
    "        \n",
    "        return tables\n",
    "\n",
    "# Path to the PDF file\n",
    "pdf_path = './Purchages bonds.pdf'\n",
    "\n",
    "# Page number from which you want to extract tables (0-based index)\n",
    "page_number = 0\n",
    "\n",
    "# Extract tables from the PDF\n",
    "tables = extract_table_from_pdf(pdf_path, page_number)\n",
    "\n",
    "# Print the extracted tables\n",
    "for i, table in enumerate(tables, start=1):\n",
    "    print(f\"Table {i}:\")\n",
    "    print(table)\n",
    "    print(\"\\n\")\n"
   ]
  },
  {
   "cell_type": "code",
   "execution_count": 4,
   "metadata": {},
   "outputs": [
    {
     "ename": "DeprecationError",
     "evalue": "PdfFileReader is deprecated and was removed in PyPDF2 3.0.0. Use PdfReader instead.",
     "output_type": "error",
     "traceback": [
      "\u001b[1;31m---------------------------------------------------------------------------\u001b[0m",
      "\u001b[1;31mDeprecationError\u001b[0m                          Traceback (most recent call last)",
      "Cell \u001b[1;32mIn[4], line 5\u001b[0m\n\u001b[0;32m      3\u001b[0m \u001b[38;5;66;03m# PDF file to extract tables from\u001b[39;00m\n\u001b[0;32m      4\u001b[0m file \u001b[38;5;241m=\u001b[39m \u001b[38;5;124m'\u001b[39m\u001b[38;5;124m./Purchages bonds.pdf\u001b[39m\u001b[38;5;124m'\u001b[39m\n\u001b[1;32m----> 5\u001b[0m tables \u001b[38;5;241m=\u001b[39m camelot\u001b[38;5;241m.\u001b[39mread_pdf(file)\n\u001b[0;32m      7\u001b[0m \u001b[38;5;28mprint\u001b[39m(\u001b[38;5;124m\"\u001b[39m\u001b[38;5;124mTotal tables extracted:\u001b[39m\u001b[38;5;124m\"\u001b[39m, tables\u001b[38;5;241m.\u001b[39mn)\n",
      "File \u001b[1;32m~\\anaconda3\\Lib\\site-packages\\camelot\\io.py:113\u001b[0m, in \u001b[0;36mread_pdf\u001b[1;34m(filepath, pages, password, flavor, suppress_stdout, layout_kwargs, **kwargs)\u001b[0m\n\u001b[0;32m    111\u001b[0m p \u001b[38;5;241m=\u001b[39m PDFHandler(filepath, pages\u001b[38;5;241m=\u001b[39mpages, password\u001b[38;5;241m=\u001b[39mpassword)\n\u001b[0;32m    112\u001b[0m kwargs \u001b[38;5;241m=\u001b[39m remove_extra(kwargs, flavor\u001b[38;5;241m=\u001b[39mflavor)\n\u001b[1;32m--> 113\u001b[0m tables \u001b[38;5;241m=\u001b[39m p\u001b[38;5;241m.\u001b[39mparse(\n\u001b[0;32m    114\u001b[0m     flavor\u001b[38;5;241m=\u001b[39mflavor,\n\u001b[0;32m    115\u001b[0m     suppress_stdout\u001b[38;5;241m=\u001b[39msuppress_stdout,\n\u001b[0;32m    116\u001b[0m     layout_kwargs\u001b[38;5;241m=\u001b[39mlayout_kwargs,\n\u001b[0;32m    117\u001b[0m     \u001b[38;5;241m*\u001b[39m\u001b[38;5;241m*\u001b[39mkwargs\n\u001b[0;32m    118\u001b[0m )\n\u001b[0;32m    119\u001b[0m \u001b[38;5;28;01mreturn\u001b[39;00m tables\n",
      "File \u001b[1;32m~\\anaconda3\\Lib\\site-packages\\camelot\\handlers.py:169\u001b[0m, in \u001b[0;36mPDFHandler.parse\u001b[1;34m(self, flavor, suppress_stdout, layout_kwargs, **kwargs)\u001b[0m\n\u001b[0;32m    167\u001b[0m \u001b[38;5;28;01mwith\u001b[39;00m TemporaryDirectory() \u001b[38;5;28;01mas\u001b[39;00m tempdir:\n\u001b[0;32m    168\u001b[0m     \u001b[38;5;28;01mfor\u001b[39;00m p \u001b[38;5;129;01min\u001b[39;00m \u001b[38;5;28mself\u001b[39m\u001b[38;5;241m.\u001b[39mpages:\n\u001b[1;32m--> 169\u001b[0m         \u001b[38;5;28mself\u001b[39m\u001b[38;5;241m.\u001b[39m_save_page(\u001b[38;5;28mself\u001b[39m\u001b[38;5;241m.\u001b[39mfilepath, p, tempdir)\n\u001b[0;32m    170\u001b[0m     pages \u001b[38;5;241m=\u001b[39m [os\u001b[38;5;241m.\u001b[39mpath\u001b[38;5;241m.\u001b[39mjoin(tempdir, \u001b[38;5;124mf\u001b[39m\u001b[38;5;124m\"\u001b[39m\u001b[38;5;124mpage-\u001b[39m\u001b[38;5;132;01m{\u001b[39;00mp\u001b[38;5;132;01m}\u001b[39;00m\u001b[38;5;124m.pdf\u001b[39m\u001b[38;5;124m\"\u001b[39m) \u001b[38;5;28;01mfor\u001b[39;00m p \u001b[38;5;129;01min\u001b[39;00m \u001b[38;5;28mself\u001b[39m\u001b[38;5;241m.\u001b[39mpages]\n\u001b[0;32m    171\u001b[0m     parser \u001b[38;5;241m=\u001b[39m Lattice(\u001b[38;5;241m*\u001b[39m\u001b[38;5;241m*\u001b[39mkwargs) \u001b[38;5;28;01mif\u001b[39;00m flavor \u001b[38;5;241m==\u001b[39m \u001b[38;5;124m\"\u001b[39m\u001b[38;5;124mlattice\u001b[39m\u001b[38;5;124m\"\u001b[39m \u001b[38;5;28;01melse\u001b[39;00m Stream(\u001b[38;5;241m*\u001b[39m\u001b[38;5;241m*\u001b[39mkwargs)\n",
      "File \u001b[1;32m~\\anaconda3\\Lib\\site-packages\\camelot\\handlers.py:108\u001b[0m, in \u001b[0;36mPDFHandler._save_page\u001b[1;34m(self, filepath, page, temp)\u001b[0m\n\u001b[0;32m     95\u001b[0m \u001b[38;5;250m\u001b[39m\u001b[38;5;124;03m\"\"\"Saves specified page from PDF into a temporary directory.\u001b[39;00m\n\u001b[0;32m     96\u001b[0m \n\u001b[0;32m     97\u001b[0m \u001b[38;5;124;03mParameters\u001b[39;00m\n\u001b[1;32m   (...)\u001b[0m\n\u001b[0;32m    105\u001b[0m \n\u001b[0;32m    106\u001b[0m \u001b[38;5;124;03m\"\"\"\u001b[39;00m\n\u001b[0;32m    107\u001b[0m \u001b[38;5;28;01mwith\u001b[39;00m \u001b[38;5;28mopen\u001b[39m(filepath, \u001b[38;5;124m\"\u001b[39m\u001b[38;5;124mrb\u001b[39m\u001b[38;5;124m\"\u001b[39m) \u001b[38;5;28;01mas\u001b[39;00m fileobj:\n\u001b[1;32m--> 108\u001b[0m     infile \u001b[38;5;241m=\u001b[39m PdfFileReader(fileobj, strict\u001b[38;5;241m=\u001b[39m\u001b[38;5;28;01mFalse\u001b[39;00m)\n\u001b[0;32m    109\u001b[0m     \u001b[38;5;28;01mif\u001b[39;00m infile\u001b[38;5;241m.\u001b[39misEncrypted:\n\u001b[0;32m    110\u001b[0m         infile\u001b[38;5;241m.\u001b[39mdecrypt(\u001b[38;5;28mself\u001b[39m\u001b[38;5;241m.\u001b[39mpassword)\n",
      "File \u001b[1;32m~\\anaconda3\\Lib\\site-packages\\PyPDF2\\_reader.py:1974\u001b[0m, in \u001b[0;36mPdfFileReader.__init__\u001b[1;34m(self, *args, **kwargs)\u001b[0m\n\u001b[0;32m   1973\u001b[0m \u001b[38;5;28;01mdef\u001b[39;00m \u001b[38;5;21m__init__\u001b[39m(\u001b[38;5;28mself\u001b[39m, \u001b[38;5;241m*\u001b[39margs: Any, \u001b[38;5;241m*\u001b[39m\u001b[38;5;241m*\u001b[39mkwargs: Any) \u001b[38;5;241m-\u001b[39m\u001b[38;5;241m>\u001b[39m \u001b[38;5;28;01mNone\u001b[39;00m:\n\u001b[1;32m-> 1974\u001b[0m     deprecation_with_replacement(\u001b[38;5;124m\"\u001b[39m\u001b[38;5;124mPdfFileReader\u001b[39m\u001b[38;5;124m\"\u001b[39m, \u001b[38;5;124m\"\u001b[39m\u001b[38;5;124mPdfReader\u001b[39m\u001b[38;5;124m\"\u001b[39m, \u001b[38;5;124m\"\u001b[39m\u001b[38;5;124m3.0.0\u001b[39m\u001b[38;5;124m\"\u001b[39m)\n\u001b[0;32m   1975\u001b[0m     \u001b[38;5;28;01mif\u001b[39;00m \u001b[38;5;124m\"\u001b[39m\u001b[38;5;124mstrict\u001b[39m\u001b[38;5;124m\"\u001b[39m \u001b[38;5;129;01mnot\u001b[39;00m \u001b[38;5;129;01min\u001b[39;00m kwargs \u001b[38;5;129;01mand\u001b[39;00m \u001b[38;5;28mlen\u001b[39m(args) \u001b[38;5;241m<\u001b[39m \u001b[38;5;241m2\u001b[39m:\n\u001b[0;32m   1976\u001b[0m         kwargs[\u001b[38;5;124m\"\u001b[39m\u001b[38;5;124mstrict\u001b[39m\u001b[38;5;124m\"\u001b[39m] \u001b[38;5;241m=\u001b[39m \u001b[38;5;28;01mTrue\u001b[39;00m  \u001b[38;5;66;03m# maintain the default\u001b[39;00m\n",
      "File \u001b[1;32m~\\anaconda3\\Lib\\site-packages\\PyPDF2\\_utils.py:369\u001b[0m, in \u001b[0;36mdeprecation_with_replacement\u001b[1;34m(old_name, new_name, removed_in)\u001b[0m\n\u001b[0;32m    363\u001b[0m \u001b[38;5;28;01mdef\u001b[39;00m \u001b[38;5;21mdeprecation_with_replacement\u001b[39m(\n\u001b[0;32m    364\u001b[0m     old_name: \u001b[38;5;28mstr\u001b[39m, new_name: \u001b[38;5;28mstr\u001b[39m, removed_in: \u001b[38;5;28mstr\u001b[39m \u001b[38;5;241m=\u001b[39m \u001b[38;5;124m\"\u001b[39m\u001b[38;5;124m3.0.0\u001b[39m\u001b[38;5;124m\"\u001b[39m\n\u001b[0;32m    365\u001b[0m ) \u001b[38;5;241m-\u001b[39m\u001b[38;5;241m>\u001b[39m \u001b[38;5;28;01mNone\u001b[39;00m:\n\u001b[0;32m    366\u001b[0m \u001b[38;5;250m    \u001b[39m\u001b[38;5;124;03m\"\"\"\u001b[39;00m\n\u001b[0;32m    367\u001b[0m \u001b[38;5;124;03m    Raise an exception that a feature was already removed, but has a replacement.\u001b[39;00m\n\u001b[0;32m    368\u001b[0m \u001b[38;5;124;03m    \"\"\"\u001b[39;00m\n\u001b[1;32m--> 369\u001b[0m     deprecation(DEPR_MSG_HAPPENED\u001b[38;5;241m.\u001b[39mformat(old_name, removed_in, new_name))\n",
      "File \u001b[1;32m~\\anaconda3\\Lib\\site-packages\\PyPDF2\\_utils.py:351\u001b[0m, in \u001b[0;36mdeprecation\u001b[1;34m(msg)\u001b[0m\n\u001b[0;32m    350\u001b[0m \u001b[38;5;28;01mdef\u001b[39;00m \u001b[38;5;21mdeprecation\u001b[39m(msg: \u001b[38;5;28mstr\u001b[39m) \u001b[38;5;241m-\u001b[39m\u001b[38;5;241m>\u001b[39m \u001b[38;5;28;01mNone\u001b[39;00m:\n\u001b[1;32m--> 351\u001b[0m     \u001b[38;5;28;01mraise\u001b[39;00m DeprecationError(msg)\n",
      "\u001b[1;31mDeprecationError\u001b[0m: PdfFileReader is deprecated and was removed in PyPDF2 3.0.0. Use PdfReader instead."
     ]
    }
   ],
   "source": [
    "import camelot\n",
    "\n",
    "# PDF file to extract tables from\n",
    "file = './Purchages bonds.pdf'\n",
    "tables = camelot.read_pdf(file)\n",
    "\n",
    "print(\"Total tables extracted:\", tables.n)"
   ]
  },
  {
   "cell_type": "code",
   "execution_count": 1,
   "metadata": {},
   "outputs": [
    {
     "name": "stderr",
     "output_type": "stream",
     "text": [
      "'pages' argument isn't specified.Will extract only from page 1 by default.\n"
     ]
    }
   ],
   "source": [
    "import tabula\n",
    "\n",
    "# Read pdf into a list of DataFrame\n",
    "dfs = tabula.read_pdf( './Purchages bonds.pdf', pages='all')\n",
    "\n",
    "# Read remote pdf into a list of DataFrame\n",
    "dfs2 = tabula.read_pdf(\"https://github.com/tabulapdf/tabula-java/raw/master/src/test/resources/technology/tabula/arabic.pdf\")\n",
    "\n",
    "# convert PDF into CSV\n",
    "tabula.convert_into( './Purchages bonds.pdf', \"output.csv\", output_format=\"csv\", pages='all')\n",
    "\n",
    "# convert all PDFs in a directory\n",
    "tabula.convert_into_by_batch(\"./\", output_format='csv', pages='all')"
   ]
  },
  {
   "cell_type": "code",
   "execution_count": 2,
   "metadata": {},
   "outputs": [
    {
     "name": "stdout",
     "output_type": "stream",
     "text": [
      "Note: you may need to restart the kernel to use updated packages.\n"
     ]
    },
    {
     "name": "stderr",
     "output_type": "stream",
     "text": [
      "WARNING: Skipping jpype as it is not installed.\n"
     ]
    }
   ],
   "source": [
    "%pip uninstall jpype"
   ]
  },
  {
   "cell_type": "code",
   "execution_count": 2,
   "metadata": {},
   "outputs": [
    {
     "name": "stdout",
     "output_type": "stream",
     "text": [
      "Requirement already satisfied: tabula-py in c:\\users\\dharm\\anaconda3\\lib\\site-packages (2.9.0)\n",
      "Requirement already satisfied: pandas>=0.25.3 in c:\\users\\dharm\\anaconda3\\lib\\site-packages (from tabula-py) (2.0.3)\n",
      "Requirement already satisfied: numpy in c:\\users\\dharm\\anaconda3\\lib\\site-packages (from tabula-py) (1.24.3)\n",
      "Requirement already satisfied: distro in c:\\users\\dharm\\anaconda3\\lib\\site-packages (from tabula-py) (1.9.0)\n",
      "Requirement already satisfied: python-dateutil>=2.8.2 in c:\\users\\dharm\\anaconda3\\lib\\site-packages (from pandas>=0.25.3->tabula-py) (2.8.2)\n",
      "Requirement already satisfied: pytz>=2020.1 in c:\\users\\dharm\\anaconda3\\lib\\site-packages (from pandas>=0.25.3->tabula-py) (2023.3.post1)\n",
      "Requirement already satisfied: tzdata>=2022.1 in c:\\users\\dharm\\anaconda3\\lib\\site-packages (from pandas>=0.25.3->tabula-py) (2023.3)\n",
      "Requirement already satisfied: six>=1.5 in c:\\users\\dharm\\anaconda3\\lib\\site-packages (from python-dateutil>=2.8.2->pandas>=0.25.3->tabula-py) (1.16.0)\n",
      "Note: you may need to restart the kernel to use updated packages.\n"
     ]
    }
   ],
   "source": [
    "%pip install tabula-py"
   ]
  },
  {
   "cell_type": "code",
   "execution_count": null,
   "metadata": {},
   "outputs": [],
   "source": [
    "%pip uninstall tabula-py"
   ]
  },
  {
   "cell_type": "code",
   "execution_count": 5,
   "metadata": {},
   "outputs": [
    {
     "name": "stdout",
     "output_type": "stream",
     "text": [
      "Failed to fetch data. Please check the IFSC code and try again.\n"
     ]
    }
   ],
   "source": [
    "import requests\n",
    "\n",
    "##ifsc_code = \"SBIN0000123\"  # Replace this with the IFSC code you want to get the branch code for\n",
    "\n",
    "ifsc_code =  'SBIN' +'00691'\n",
    "\n",
    "url = f\"https://ifsc.razorpay.com/{ifsc_code}\"\n",
    "response = requests.get(url)\n",
    "\n",
    "if response.status_code == 200:\n",
    "    data = response.json()\n",
    "    branch_code = data['BRANCH']\n",
    "    print(f\"The branch code for {ifsc_code} is {branch_code}\")\n",
    "else:\n",
    "    print(\"Failed to fetch data. Please check the IFSC code and try again.\")\n",
    "\n",
    "    "
   ]
  },
  {
   "cell_type": "code",
   "execution_count": 4,
   "metadata": {},
   "outputs": [
    {
     "data": {
      "text/plain": [
       "{'MICR': '400002419',\n",
       " 'BRANCH': 'NARIMAN POINT BR',\n",
       " 'ADDRESS': 'MITTAL TOWERS C WINGNARIMAN POINTMUMBAI',\n",
       " 'STATE': 'MAHARASHTRA',\n",
       " 'CONTACT': '',\n",
       " 'UPI': True,\n",
       " 'RTGS': True,\n",
       " 'CITY': 'GREATER BOMBAY',\n",
       " 'CENTRE': 'GREATER BOMBAY',\n",
       " 'DISTRICT': 'GREATER BOMBAY',\n",
       " 'NEFT': True,\n",
       " 'IMPS': True,\n",
       " 'SWIFT': 'SBININBBH01',\n",
       " 'ISO3166': 'IN-MH',\n",
       " 'BANK': 'State Bank of India',\n",
       " 'BANKCODE': 'SBIN',\n",
       " 'IFSC': 'SBIN0020001'}"
      ]
     },
     "execution_count": 4,
     "metadata": {},
     "output_type": "execute_result"
    }
   ],
   "source": [
    "data"
   ]
  },
  {
   "cell_type": "code",
   "execution_count": null,
   "metadata": {},
   "outputs": [],
   "source": []
  }
 ],
 "metadata": {
  "kernelspec": {
   "display_name": "Python 3",
   "language": "python",
   "name": "python3"
  },
  "language_info": {
   "codemirror_mode": {
    "name": "ipython",
    "version": 3
   },
   "file_extension": ".py",
   "mimetype": "text/x-python",
   "name": "python",
   "nbconvert_exporter": "python",
   "pygments_lexer": "ipython3",
   "version": "3.7.6"
  }
 },
 "nbformat": 4,
 "nbformat_minor": 5
}
